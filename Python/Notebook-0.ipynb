{
    "metadata": {
        "kernelspec": {
            "name": "python3",
            "display_name": "Python 3",
            "language": "python"
        },
        "language_info": {
            "name": "python",
            "version": "3.8.3",
            "mimetype": "text/x-python",
            "codemirror_mode": {
                "name": "ipython",
                "version": 3
            },
            "pygments_lexer": "ipython3",
            "nbconvert_exporter": "python",
            "file_extension": ".py"
        }
    },
    "nbformat_minor": 2,
    "nbformat": 4,
    "cells": [
        {
            "cell_type": "code",
            "source": [
                "import numpy as np\r\n",
                "import pandas as pd\r\n",
                "import perfplot\r\n",
                "\r\n",
                "_rnd = np.random.RandomState(42)\r\n",
                "\r\n",
                "def make_data(n):    \r\n",
                "    x = _rnd.randint(0, 200, n)\r\n",
                "    df1 = pd.DataFrame({'x':x})\r\n",
                "    df2 = df1.set_index('x', drop=False)\r\n",
                "    df3 = df2.sort_index()\r\n",
                "\r\n",
                "    return df1, df2, df3\r\n",
                "\r\n",
                "perfplot.show(\r\n",
                "    setup=lambda n: make_data(n),\r\n",
                "    kernels=[\r\n",
                "        lambda dfs: dfs[0].loc[100],\r\n",
                "        lambda dfs: dfs[1].loc[100],        \r\n",
                "        lambda dfs: dfs[2].loc[100],\r\n",
                "    ],\r\n",
                "    labels=['Unique index', 'Non-unique, unsorted index', 'Non-unique, sorted index'],\r\n",
                "    n_range=[2 ** k for k in range(8, 23)],\r\n",
                "    xlabel='N',\r\n",
                "    logx=True,\r\n",
                "    logy=True,\r\n",
                "    equality_check=False)"
            ],
            "metadata": {
                "azdata_cell_guid": "1e081dd6-ede9-4caa-9999-7b5b1df49b0c"
            },
            "outputs": [
                {
                    "output_type": "display_data",
                    "data": {
                        "text/plain": "<rich.jupyter.JupyterRenderable at 0xc967ad8>",
                        "text/html": "<pre style=\"white-space:pre;overflow-x:auto;line-height:normal;font-family:Menlo,'DejaVu Sans Mono',consolas,'Courier New',monospace\">Overall <span style=\"color: #729c1f\">━━━━━━━━━━━━━━━━━━━━━━━━━━━━━━━━━━━━━━━━</span> <span style=\"color: #800080\">100%</span> <span style=\"color: #008080\">0:00:00</span>\nKernels <span style=\"color: #729c1f\">━━━━━━━━━━━━━━━━━━━━━━━━━━━━━━━━━━━━━━━━</span> <span style=\"color: #800080\">100%</span> <span style=\"color: #008080\">0:00:00</span>\n</pre>\n"
                    },
                    "metadata": {}
                },
                {
                    "output_type": "display_data",
                    "data": {
                        "text/plain": "<Figure size 432x288 with 1 Axes>",
                        "image/png": "[encoded data removed]"
                    },
                    "metadata": {
                        "needs_background": "dark"
                    }
                }
            ],
            "execution_count": 3
        },
        {
            "cell_type": "code",
            "source": [
                "x = _rnd.randint(0, 200, 100)\r\n",
                "df1 = pd.DataFrame({'x':x})\r\n",
                "df1"
            ],
            "metadata": {
                "azdata_cell_guid": "8c59d1a6-6acd-4d9b-8547-d0c2147e302d"
            },
            "outputs": [
                {
                    "output_type": "execute_result",
                    "execution_count": 7,
                    "data": {
                        "text/plain": "      x\n0   140\n1   187\n2   107\n3    51\n4   197\n..  ...\n95  125\n96   11\n97   35\n98   67\n99  106\n\n[100 rows x 1 columns]",
                        "text/html": "<div>\n<style scoped>\n    .dataframe tbody tr th:only-of-type {\n        vertical-align: middle;\n    }\n\n    .dataframe tbody tr th {\n        vertical-align: top;\n    }\n\n    .dataframe thead th {\n        text-align: right;\n    }\n</style>\n<table border=\"1\" class=\"dataframe\">\n  <thead>\n    <tr style=\"text-align: right;\">\n      <th></th>\n      <th>x</th>\n    </tr>\n  </thead>\n  <tbody>\n    <tr>\n      <th>0</th>\n      <td>140</td>\n    </tr>\n    <tr>\n      <th>1</th>\n      <td>187</td>\n    </tr>\n    <tr>\n      <th>2</th>\n      <td>107</td>\n    </tr>\n    <tr>\n      <th>3</th>\n      <td>51</td>\n    </tr>\n    <tr>\n      <th>4</th>\n      <td>197</td>\n    </tr>\n    <tr>\n      <th>...</th>\n      <td>...</td>\n    </tr>\n    <tr>\n      <th>95</th>\n      <td>125</td>\n    </tr>\n    <tr>\n      <th>96</th>\n      <td>11</td>\n    </tr>\n    <tr>\n      <th>97</th>\n      <td>35</td>\n    </tr>\n    <tr>\n      <th>98</th>\n      <td>67</td>\n    </tr>\n    <tr>\n      <th>99</th>\n      <td>106</td>\n    </tr>\n  </tbody>\n</table>\n<p>100 rows × 1 columns</p>\n</div>"
                    },
                    "metadata": {}
                }
            ],
            "execution_count": 7
        },
        {
            "cell_type": "code",
            "source": [
                "df2 = df1.set_index('x', drop=False)\r\n",
                "df2\r\n",
                "    "
            ],
            "metadata": {
                "azdata_cell_guid": "02ed8ba6-ef5d-4847-9a15-9e1df4bf875a",
                "tags": []
            },
            "outputs": [
                {
                    "output_type": "execute_result",
                    "execution_count": 8,
                    "data": {
                        "text/plain": "       x\nx       \n140  140\n187  187\n107  107\n51    51\n197  197\n..   ...\n125  125\n11    11\n35    35\n67    67\n106  106\n\n[100 rows x 1 columns]",
                        "text/html": "<div>\n<style scoped>\n    .dataframe tbody tr th:only-of-type {\n        vertical-align: middle;\n    }\n\n    .dataframe tbody tr th {\n        vertical-align: top;\n    }\n\n    .dataframe thead th {\n        text-align: right;\n    }\n</style>\n<table border=\"1\" class=\"dataframe\">\n  <thead>\n    <tr style=\"text-align: right;\">\n      <th></th>\n      <th>x</th>\n    </tr>\n    <tr>\n      <th>x</th>\n      <th></th>\n    </tr>\n  </thead>\n  <tbody>\n    <tr>\n      <th>140</th>\n      <td>140</td>\n    </tr>\n    <tr>\n      <th>187</th>\n      <td>187</td>\n    </tr>\n    <tr>\n      <th>107</th>\n      <td>107</td>\n    </tr>\n    <tr>\n      <th>51</th>\n      <td>51</td>\n    </tr>\n    <tr>\n      <th>197</th>\n      <td>197</td>\n    </tr>\n    <tr>\n      <th>...</th>\n      <td>...</td>\n    </tr>\n    <tr>\n      <th>125</th>\n      <td>125</td>\n    </tr>\n    <tr>\n      <th>11</th>\n      <td>11</td>\n    </tr>\n    <tr>\n      <th>35</th>\n      <td>35</td>\n    </tr>\n    <tr>\n      <th>67</th>\n      <td>67</td>\n    </tr>\n    <tr>\n      <th>106</th>\n      <td>106</td>\n    </tr>\n  </tbody>\n</table>\n<p>100 rows × 1 columns</p>\n</div>"
                    },
                    "metadata": {}
                }
            ],
            "execution_count": 8
        },
        {
            "cell_type": "code",
            "source": [
                "df3 = df2.sort_index()\r\n",
                "df3"
            ],
            "metadata": {
                "azdata_cell_guid": "8b1daa62-7aeb-4813-a181-7d32521be87c"
            },
            "outputs": [
                {
                    "output_type": "execute_result",
                    "execution_count": 9,
                    "data": {
                        "text/plain": "       x\nx       \n1      1\n1      1\n3      3\n5      5\n8      8\n..   ...\n187  187\n194  194\n194  194\n197  197\n199  199\n\n[100 rows x 1 columns]",
                        "text/html": "<div>\n<style scoped>\n    .dataframe tbody tr th:only-of-type {\n        vertical-align: middle;\n    }\n\n    .dataframe tbody tr th {\n        vertical-align: top;\n    }\n\n    .dataframe thead th {\n        text-align: right;\n    }\n</style>\n<table border=\"1\" class=\"dataframe\">\n  <thead>\n    <tr style=\"text-align: right;\">\n      <th></th>\n      <th>x</th>\n    </tr>\n    <tr>\n      <th>x</th>\n      <th></th>\n    </tr>\n  </thead>\n  <tbody>\n    <tr>\n      <th>1</th>\n      <td>1</td>\n    </tr>\n    <tr>\n      <th>1</th>\n      <td>1</td>\n    </tr>\n    <tr>\n      <th>3</th>\n      <td>3</td>\n    </tr>\n    <tr>\n      <th>5</th>\n      <td>5</td>\n    </tr>\n    <tr>\n      <th>8</th>\n      <td>8</td>\n    </tr>\n    <tr>\n      <th>...</th>\n      <td>...</td>\n    </tr>\n    <tr>\n      <th>187</th>\n      <td>187</td>\n    </tr>\n    <tr>\n      <th>194</th>\n      <td>194</td>\n    </tr>\n    <tr>\n      <th>194</th>\n      <td>194</td>\n    </tr>\n    <tr>\n      <th>197</th>\n      <td>197</td>\n    </tr>\n    <tr>\n      <th>199</th>\n      <td>199</td>\n    </tr>\n  </tbody>\n</table>\n<p>100 rows × 1 columns</p>\n</div>"
                    },
                    "metadata": {}
                }
            ],
            "execution_count": 9
        },
        {
            "cell_type": "code",
            "source": [
                ""
            ],
            "metadata": {
                "azdata_cell_guid": "9e1de546-cd8f-4e56-bd45-7266d16e2b9d"
            },
            "outputs": [],
            "execution_count": null
        }
    ]
}